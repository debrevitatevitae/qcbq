{
 "cells": [
  {
   "cell_type": "markdown",
   "metadata": {
    "colab_type": "text",
    "id": "view-in-github"
   },
   "source": [
    "<a href=\"https://colab.research.google.com/github/JavaFXpert/qiskit4devs-workshop-notebooks/blob/master/rotating_around_bloch.ipynb\" target=\"_parent\"><img src=\"https://colab.research.google.com/assets/colab-badge.svg\" alt=\"Open In Colab\"/></a>"
   ]
  },
  {
   "cell_type": "markdown",
   "metadata": {
    "colab_type": "text",
    "collapsed": true,
    "id": "-Lh381LZkY9W"
   },
   "source": [
    "## Rotating around the Bloch sphere\n",
    "Single-qubit gates may be visualized as rotations around the Bloch sphere. For example, recall that applying an *X* gate results in a $\\pi$ rotation around the X axis. Take a few minutes to read the [Single-Qubit Gates](https://quantum-computing.ibm.com/jupyter/tutorial/fundamentals/7_summary_of_quantum_operations.ipynb) section of the Qiskit Terra documentation, focusing on the *X*, *Y*, *Z*, *S*, *S$\\dagger$*, *T*, *T$\\dagger$*, *Rx*, *Ry* and *Rz* gates. As you're reading about the behavior of each gate and the [unitary matrices](https://en.wikipedia.org/wiki/Unitary_matrix) that model them, use the [Bloch sphere playground application](https://javafxpert.github.io/grok-bloch/) to visualize their rotations and effect on the qubit's state. Some gates, including *Z*, *Rz*, *S*, *S$\\dagger$*, *T* and *T$\\dagger$* rotate exclusively around the Z axis, therefore affecting the qubit's phase but not its amplitudes or measurement probabilities. Other gates, including *X*, *Rx*, *Y* and *Ry* affect its amplitudes, and consequently its measurement probabilities.\n",
    "\n",
    "Suppose we wanted a qubit to evolve from state $\\vert0\\rangle$ to a state whose probability of measuring $\\vert1\\rangle$ is approximately 0.85 and whose phase is $\\pi$. One approach would be to use the _Bloch sphere playground application_ to try rotations that achieve that state. Doing so shows that applying an *Ry* gate with a rotation angle $\\theta$ of $-3\\pi/4$ will do the trick. The following code leverages this gate and angle to produce the desired state."
   ]
  },
  {
   "cell_type": "code",
   "execution_count": 0,
   "metadata": {
    "colab": {},
    "colab_type": "code",
    "id": "eI2ad3aJWcKg"
   },
   "outputs": [],
   "source": [
    "#!pip install qiskit\n",
    "# Do the usual setup, but without classical registers or measurement\n",
    "import numpy as np\n",
    "from qiskit import QuantumCircuit, QuantumRegister, execute\n",
    "\n",
    "qr = QuantumRegister(1)\n",
    "circ = QuantumCircuit(qr)\n"
   ]
  },
  {
   "cell_type": "code",
   "execution_count": 0,
   "metadata": {
    "colab": {},
    "colab_type": "code",
    "id": "9S3q9oI0XK4i"
   },
   "outputs": [],
   "source": [
    "\n",
    "# Place an Ry gate with a −3π/4 rotation\n",
    "circ.ry(-3/4 * np.pi, qr[0])\n",
    "\n",
    "# Draw the circuit\n",
    "circ.draw(output='mpl')\n"
   ]
  },
  {
   "cell_type": "markdown",
   "metadata": {
    "colab_type": "text",
    "id": "Nf9fLNluWcKk"
   },
   "source": [
    "We'll use the statevector simulator to verify that we've achieved the desired state"
   ]
  },
  {
   "cell_type": "code",
   "execution_count": 0,
   "metadata": {
    "colab": {},
    "colab_type": "code",
    "id": "cztKMdLeWcKl"
   },
   "outputs": [],
   "source": [
    "# Use the BasicAer statevector_simulator backend\n",
    "from qiskit import BasicAer\n",
    "backend_sv_sim = BasicAer.get_backend('statevector_simulator')\n",
    "\n",
    "job_sim = execute(circ, backend_sv_sim)\n",
    "result_sim = job_sim.result()\n",
    "quantum_state = result_sim.get_statevector(circ, decimals=3)\n",
    "\n",
    "# Output the quantum state vector\n",
    "quantum_state"
   ]
  },
  {
   "cell_type": "markdown",
   "metadata": {
    "colab_type": "text",
    "id": "Zma8WE38WcKn"
   },
   "source": [
    "Notice that the desired probabilities have been achieved, as squaring the absolute values of the $\\vert1\\rangle$ amplitude $-0.924$ results in approximately 0.85. Let's visualize this state on the Bloch sphere."
   ]
  },
  {
   "cell_type": "code",
   "execution_count": 0,
   "metadata": {
    "colab": {},
    "colab_type": "code",
    "id": "aSsGGqJTWcKn"
   },
   "outputs": [],
   "source": [
    "# Plot the state vector on a Bloch sphere\n",
    "from qiskit.tools.visualization import plot_bloch_multivector\n",
    "plot_bloch_multivector(quantum_state)"
   ]
  },
  {
   "cell_type": "markdown",
   "metadata": {
    "colab_type": "text",
    "id": "R-2If2lPWcKp"
   },
   "source": [
    "#### Now it's your turn to play!\n",
    "Here's a challenge for you: In the following cells, modify the circuit to achieve a qubit state whose probability of measuring $\\vert0\\rangle$ is 0.75, and phase is $\\pi/4$ \n"
   ]
  },
  {
   "cell_type": "code",
   "execution_count": 0,
   "metadata": {
    "colab": {},
    "colab_type": "code",
    "id": "lZkGk9WrWcKq",
    "scrolled": true
   },
   "outputs": [],
   "source": [
    "# Do the usual setup, but without classical registers or measurement\n",
    "import numpy as np\n",
    "from qiskit import QuantumCircuit, QuantumRegister, execute\n",
    "\n",
    "qr = QuantumRegister(1)\n",
    "circ = QuantumCircuit(qr)\n",
    "\n",
    "# Place gates that will achieve the desired state\n",
    "\n",
    "\n",
    "# Draw the circuit\n",
    "circ.draw(output='mpl')\n"
   ]
  },
  {
   "cell_type": "code",
   "execution_count": 0,
   "metadata": {
    "colab": {},
    "colab_type": "code",
    "id": "istNd1WWWcKs"
   },
   "outputs": [],
   "source": [
    "# Use the BasicAer statevector_simulator backend\n",
    "from qiskit import BasicAer\n",
    "backend_sv_sim = BasicAer.get_backend('statevector_simulator')\n",
    "\n",
    "job_sim = execute(circ, backend_sv_sim)\n",
    "result_sim = job_sim.result()\n",
    "quantum_state = result_sim.get_statevector(circ, decimals=3)\n",
    "\n",
    "# Output the quantum state vector\n",
    "quantum_state"
   ]
  },
  {
   "cell_type": "code",
   "execution_count": 0,
   "metadata": {
    "colab": {},
    "colab_type": "code",
    "id": "fulhcY4uWcKu"
   },
   "outputs": [],
   "source": [
    "# Plot the state vector on a Bloch sphere\n",
    "from qiskit.tools.visualization import plot_bloch_multivector\n",
    "plot_bloch_multivector(quantum_state)"
   ]
  },
  {
   "cell_type": "markdown",
   "metadata": {
    "colab_type": "text",
    "id": "6pFGKnJ1WcKw"
   },
   "source": [
    "#### One more challenge before you go\n",
    "\n",
    "Recall that the Hadamard gate rotates the state on the Bloch sphere $\\pi$ radians around the diagonal X+Z axis. Because of this behavior, inserting a phase rotation gate between two Hadamard gates has the effect of converting the Z rotation into an X rotation. This is used by some quantum computing algorithms to trade phase with probability amplitudes while in a superposition. Your challenge is to create a circuit (in the cells above) that contains two Hadamard gates with a phase rotation gate in-between them. The probability of measuring $\\vert0\\rangle$ must be approximately 0.85.\n",
    "\n",
    "Enjoy this challenge, and congratulations on the progress you've made on your quantum computing journey!"
   ]
  }
 ],
 "metadata": {
  "colab": {
   "collapsed_sections": [],
   "include_colab_link": true,
   "name": "quantum_not_gate_qiskit.ipynb",
   "private_outputs": true,
   "provenance": [],
   "version": "0.3.2"
  },
  "kernelspec": {
   "display_name": "Python 3",
   "language": "python",
   "name": "python3"
  },
  "language_info": {
   "codemirror_mode": {
    "name": "ipython",
    "version": 3
   },
   "file_extension": ".py",
   "mimetype": "text/x-python",
   "name": "python",
   "nbconvert_exporter": "python",
   "pygments_lexer": "ipython3",
   "version": "3.7.3"
  }
 },
 "nbformat": 4,
 "nbformat_minor": 1
}
