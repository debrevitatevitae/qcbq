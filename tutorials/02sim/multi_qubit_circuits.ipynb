{
 "cells": [
  {
   "cell_type": "markdown",
   "metadata": {
    "colab_type": "text",
    "id": "view-in-github"
   },
   "source": [
    "<a href=\"https://colab.research.google.com/github/JavaFXpert/qiskit4devs-workshop-notebooks/blob/master/multi_qubit_circuits.ipynb\" target=\"_parent\"><img src=\"https://colab.research.google.com/assets/colab-badge.svg\" alt=\"Open In Colab\"/></a>"
   ]
  },
  {
   "cell_type": "markdown",
   "metadata": {
    "colab_type": "text",
    "id": "-Lh381LZkY9W"
   },
   "source": [
    "## Multi-qubit quantum circuits\n",
    "Now we'll explore quantum circuits that contain more than one wire (qubit). The number of computational basis states doubles with each additional wire, so a three-wire circuit contains eight computational basis states, $\\vert000\\rangle$ through $\\vert111\\rangle$.\n",
    "\n",
    "To demonstrate multi-qubit circuits, we'll create a simple quantum circuit with the [Qiskit](https://qiskit.org/) framework. "
   ]
  },
  {
   "cell_type": "code",
   "execution_count": 0,
   "metadata": {
    "colab": {},
    "colab_type": "code",
    "id": "GjnUKZPdsnfZ"
   },
   "outputs": [],
   "source": [
    "#!pip install qiskit\n",
    "# Include the necessary imports for this program\n",
    "import numpy as np\n",
    "from qiskit import QuantumCircuit, ClassicalRegister, QuantumRegister\n",
    "from qiskit import execute"
   ]
  },
  {
   "cell_type": "markdown",
   "metadata": {
    "colab_type": "text",
    "id": "gg2ag14rsnfd"
   },
   "source": [
    "In this first version of our circuit, we're going to use a simulator in Qiskit, referred to as \"statevector_simulator\", that will show us the quantum state upon running the circuit. This is not available on a real quantum computer, because we can't observe the quantum state directly; we can only infer it from measurements that collapse the quantum state into one basis state."
   ]
  },
  {
   "cell_type": "code",
   "execution_count": 0,
   "metadata": {
    "colab": {},
    "colab_type": "code",
    "id": "6vFukG6vsnfe"
   },
   "outputs": [],
   "source": [
    "# Create a Quantum Register with 3 qubits\n",
    "qr = QuantumRegister(3)\n",
    "\n",
    "# Create a Quantum Circuit from the quantum register. Because we're going to use\n",
    "# the statevector_simulator, we won't measure the circuit or need classical registers.\n",
    "circ = QuantumCircuit(qr)\n",
    "\n",
    "# Place an X gate on the 2nd and 3rd wires. The topmost wire is index 0.\n",
    "circ.x(qr[1])\n",
    "circ.x(qr[2])\n",
    "\n",
    "# Draw the circuit\n",
    "circ.draw(output='mpl')\n"
   ]
  },
  {
   "cell_type": "markdown",
   "metadata": {
    "colab_type": "text",
    "id": "LR9qRyQKsnfg"
   },
   "source": [
    "Now that the quantum circuit has been defined and drawn, let's execute it on a state vector simulator that will give us the quantum state of the circuit."
   ]
  },
  {
   "cell_type": "code",
   "execution_count": 0,
   "metadata": {
    "colab": {},
    "colab_type": "code",
    "id": "m7kLzC8nsnfh"
   },
   "outputs": [],
   "source": [
    "# Use the BasicAer statevector_simulator backend\n",
    "from qiskit import BasicAer\n",
    "backend_sv_sim = BasicAer.get_backend('statevector_simulator')\n",
    "\n",
    "# Execute the circuit on the state vector simulator\n",
    "job_sim = execute(circ, backend_sv_sim)\n",
    "\n",
    "# Grab the results from the job.\n",
    "result_sim = job_sim.result()\n",
    "\n",
    "# Obtain the state vector for the quantum circuit\n",
    "quantum_state = result_sim.get_statevector(circ, decimals=3)\n",
    "\n",
    "# Output the quantum state vector in a manner that contains a comma-delimited string.\n",
    "quantum_state"
   ]
  },
  {
   "cell_type": "markdown",
   "metadata": {
    "colab_type": "text",
    "id": "FuUx8wVcsnfk"
   },
   "source": [
    "#### The quantum state vector\n",
    "The output of the previously run cell contains a comma-separated string that represents the circuit's quantum state. Here are a few things to notice about this state vector:\n",
    "\n",
    "* There are $2^n$ dimensions in the vector (8 in this example), where $n$ is the number of wires in the circuit (3 in this example).\n",
    "* Each dimension holds the amplitude of that dimension as a [complex number](https://en.wikipedia.org/wiki/Complex_number \"Complex number article on Wikipedia\").\n",
    "* The sum of the squared absolute values of these amplitudes is 1\n",
    "\n",
    "In this example there is a 100% probability that a measurement will result in the state represented by dimension 6 (0 indexed) of this vector. This state is the $\\vert110\\rangle$ computational basis state, because $110$ is the binary representation of the number $6$. This matches the fact that the qubit states of the circuit are $\\vert1\\rangle$, $\\vert1\\rangle$ and $\\vert0\\rangle$ starting from the bottom of the circuit.\n",
    "\n",
    "The state vector of this simple circuit may be calculated by taking the [Kronecker product](https://en.wikipedia.org/wiki/Kronecker_product \"Kronecker product article on Wikipedia\"), also known as tensor product, of its individual qubit states. Beginning from the most-significant qubit (which is on the bottom wire), perform the following calculation:\n",
    "\n",
    "$$\n",
    " \\begin{bmatrix}\n",
    "  0 \\\\\n",
    "  1\n",
    " \\end{bmatrix}\\otimes\n",
    " \\begin{bmatrix}\n",
    "  0 \\\\\n",
    "  1\n",
    " \\end{bmatrix}\\otimes\n",
    " \\begin{bmatrix}\n",
    "  1 \\\\\n",
    "  0\n",
    " \\end{bmatrix}=\n",
    " \\begin{bmatrix}\n",
    "  0 \\\\\n",
    "  0 \\\\\n",
    "  0 \\\\\n",
    "  0 \\\\\n",
    "  0 \\\\\n",
    "  0 \\\\\n",
    "  1 \\\\\n",
    "  0\n",
    " \\end{bmatrix}\n",
    "$$\n",
    "\n",
    "Notice that the result of this calculation and the output of the get_statevector() method are equivalent. We'll now generate a visualization of the quantum state vector on a Q-sphere:"
   ]
  },
  {
   "cell_type": "code",
   "execution_count": 0,
   "metadata": {
    "colab": {},
    "colab_type": "code",
    "id": "JEZDEVOPsnfl"
   },
   "outputs": [],
   "source": [
    "# Plot the state vector on a Q-sphere\n",
    "from qiskit.tools.visualization import plot_state_qsphere\n",
    "plot_state_qsphere(quantum_state)"
   ]
  },
  {
   "cell_type": "markdown",
   "metadata": {
    "colab_type": "text",
    "id": "WqtQfcMXsnfn"
   },
   "source": [
    "Each line from the center of the sphere to the surface represents a computational basis state, with the opacity of the line reflecting its probability. Notice that there is only one line on this sphere, and you'll soon see that it represents computational basis state $\\vert110\\rangle$, consistent with the amplitudes in the state vector.\n",
    "\n",
    "#### Representing the $\\vert110\\rangle$ state on a Q-sphere\n",
    "There are several ways to visualize multi-qubit quantum states, one such way being a Q-sphere. The following Q-sphere represents the $\\vert110\\rangle$ state.\n",
    "<br/>\n",
    "\n",
    "<div align='center'><img src='https://raw.githubusercontent.com/JavaFXpert/qiskit4devs-workshop-notebooks/master/images/qsphere-110-state.png' width=400 height=400 title='Q-sphere representation of the |110> state'>\n",
    "</div>\n",
    "\n",
    "<br/>\n",
    "Each of the computational basis states in a quantum state vector are arranged on the surface of a Q-sphere in the following way:\n",
    "\n",
    "* the all-zeros state, for example $\\vert000\\rangle$ in a three-qubit circuit, is at the top of the sphere\n",
    "* the all-ones state, for example $\\vert111\\rangle$ in a three-qubit circuit, is at the bottom of the sphere\n",
    "* each latitudinal line contains states that share the same [Hamming weight](https://en.wikipedia.org/wiki/Hamming_weight \"Hamming weight article on Wikipedia\") (number of ones in its bit string), with Hamming weights increasing moving downward on the sphere.\n",
    "\n",
    "Other features of this Q-sphere include:\n",
    "\n",
    "* The opacity of the radial line and volume of the ball associated with a state is proportional to its measurement probability.\n",
    "* The color of a state's line and ball reflect its _phase_, which will be addressed in future lessons.\n",
    "\n",
    "The Q-sphere shown here is from the [Quantum Spheres Playground application](https://javafxpert.github.io/quantum-state-spheres/ \"Quantum Spheres Playground application\"), with which you may visualize multi-qubit quantum states as you interact with their individual Bloch spheres. Also, in the upper left corner of this application is a text field in which you may paste a comma-separated state vector such as the one generated earlier by the simulator. Doing so will cause the Q-sphere to represent the state vector.\n",
    "\n",
    "Now that we've examined the circuit's quantum state vector, we'll add measurements to the circuit and create an updated drawing."
   ]
  },
  {
   "cell_type": "code",
   "execution_count": 0,
   "metadata": {
    "colab": {},
    "colab_type": "code",
    "id": "qTJMysLtJpsF"
   },
   "outputs": [],
   "source": [
    "# Create a Classical Register with 3 bits\n",
    "cr = ClassicalRegister(3)\n",
    "\n",
    "# Create the measurement portion of a quantum circuit\n",
    "meas_circ = QuantumCircuit(qr, cr)\n",
    "\n",
    "# Create a barrier that separates the gates from the measurements\n",
    "meas_circ.barrier(qr)\n",
    "\n",
    "# Measure the qubits into the classical registers\n",
    "meas_circ.measure(qr, cr)\n",
    "\n",
    "# Add the measument circuit to the original circuit\n",
    "complete_circuit = circ + meas_circ\n",
    "\n",
    "# Draw the new circuit\n",
    "complete_circuit.draw(output='mpl')\n"
   ]
  },
  {
   "cell_type": "markdown",
   "metadata": {
    "colab_type": "text",
    "id": "EAsnHYI9snfr"
   },
   "source": [
    "Now we'll execute the updated circuit on a quantum simulator that includes measurements."
   ]
  },
  {
   "cell_type": "code",
   "execution_count": 0,
   "metadata": {
    "colab": {},
    "colab_type": "code",
    "id": "q9VtcrnDKmd1"
   },
   "outputs": [],
   "source": [
    "# Use the BasicAer qasm_simulator backend\n",
    "from qiskit import BasicAer\n",
    "backend_sim = BasicAer.get_backend('qasm_simulator')\n",
    "\n",
    "# Execute the circuit on the qasm simulator, running it 1000 times.\n",
    "job_sim = execute(complete_circuit, backend_sim, shots=1000)\n",
    "\n",
    "# Grab the results from the job.\n",
    "result_sim = job_sim.result()\n",
    "\n",
    "# Print the counts, which are contained in a Python dictionary\n",
    "counts = result_sim.get_counts(complete_circuit)\n",
    "print(counts)\n"
   ]
  },
  {
   "cell_type": "markdown",
   "metadata": {
    "colab_type": "text",
    "id": "5__0oMx_snft"
   },
   "source": [
    "The measurements for each shot should be $\\vert110\\rangle$ because the state vector indicated that the probability for that basis state is $1$. Recall that the square of the absolute value of a state's amplitude is the probability of a measurement resulting in that state. In this example:\n",
    "$$\n",
    " Pr(110) = \\left|1\\right|^2 = 1\n",
    "$$\n",
    "where $Pr$ means probability. We'll now plot a histogram of the results."
   ]
  },
  {
   "cell_type": "code",
   "execution_count": 0,
   "metadata": {
    "colab": {},
    "colab_type": "code",
    "id": "-5ZQVEBF7Tqq"
   },
   "outputs": [],
   "source": [
    "# Plot the results on a histogram\n",
    "from qiskit.tools.visualization import plot_histogram\n",
    "plot_histogram(counts)"
   ]
  },
  {
   "cell_type": "markdown",
   "metadata": {
    "colab_type": "text",
    "collapsed": true,
    "id": "CkyK8kufsnfx"
   },
   "source": [
    "As you may have noticed, this example demonstrates only classical bit manipulation, so go ahead and create an example that leverages quantum mechanical properties. In the following cell, create a three-wire circuit with a Hadamard gate on each wire, and draw the circuit. You won't measure the circuit or need classical registers just yet:"
   ]
  },
  {
   "cell_type": "code",
   "execution_count": 0,
   "metadata": {
    "colab": {},
    "colab_type": "code",
    "id": "glI3rN4csnfy"
   },
   "outputs": [],
   "source": [
    "# Include the necessary imports for this program\n",
    "\n",
    "\n",
    "# Create a Quantum Register with 3 qubits\n",
    "\n",
    "\n",
    "# Create a Quantum Circuit from the quantum register. Because we're going to use\n",
    "# the statevector_simulator, we won't measure the circuit or need classical registers.\n",
    "\n",
    "\n",
    "# Place Hadamard gate on each of the wires.\n",
    "\n",
    "\n",
    "# Draw the circuit\n",
    "\n"
   ]
  },
  {
   "cell_type": "markdown",
   "metadata": {
    "colab_type": "text",
    "id": "xe58SxpGsnf0"
   },
   "source": [
    "Now that the quantum circuit has been defined and drawn, execute it on a state vector simulator that calculates the quantum state of the circuit:"
   ]
  },
  {
   "cell_type": "code",
   "execution_count": 0,
   "metadata": {
    "colab": {},
    "colab_type": "code",
    "id": "njI_4XD7snf0"
   },
   "outputs": [],
   "source": [
    "# Use the BasicAer statevector_simulator backend\n",
    "\n",
    "\n",
    "# Execute the circuit on the state vector simulator\n",
    "\n",
    "\n",
    "# Grab the results from the job.\n",
    "\n",
    "\n",
    "# Obtain the state vector for the quantum circuit\n",
    "\n",
    "\n",
    "# Output the quantum state vector in a manner that contains a comma-delimited string.\n"
   ]
  },
  {
   "cell_type": "markdown",
   "metadata": {
    "colab_type": "text",
    "id": "nN3gTYfIsnf3"
   },
   "source": [
    "Generate a visualization of the quantum state vector on a Q-sphere:"
   ]
  },
  {
   "cell_type": "code",
   "execution_count": 0,
   "metadata": {
    "colab": {},
    "colab_type": "code",
    "id": "IDzyPP4dsnf4"
   },
   "outputs": [],
   "source": [
    "# Plot the state vector on a Q-sphere\n"
   ]
  },
  {
   "cell_type": "markdown",
   "metadata": {
    "colab_type": "text",
    "id": "P7G5HfAvsnf6"
   },
   "source": [
    "Copy the comma-delimited string representing the state vector that was output in a previous step. Paste it into the text field in the upper left corner of the [Quantum Spheres Playground application](https://javafxpert.github.io/quantum-state-spheres/ \"Quantum Spheres Playground application\") to further visualize it in a Q-sphere.\n",
    "\n",
    "Add measurements to the circuit and create an updated drawing:"
   ]
  },
  {
   "cell_type": "code",
   "execution_count": 0,
   "metadata": {
    "colab": {},
    "colab_type": "code",
    "id": "wBP-8SDJsnf6"
   },
   "outputs": [],
   "source": [
    "# Create a Classical Register with 3 bits\n",
    "\n",
    "\n",
    "# Create the measurement portion of a quantum circuit\n",
    "\n",
    "\n",
    "# Create a barrier that separates the gates from the measurements\n",
    "\n",
    "\n",
    "# Measure the qubits into the classical registers\n",
    "\n",
    "\n",
    "# Add the measument circuit to the original circuit\n",
    "\n",
    "\n",
    "# Draw the new circuit\n"
   ]
  },
  {
   "cell_type": "markdown",
   "metadata": {
    "colab_type": "text",
    "id": "rvvdKc4Psnf8"
   },
   "source": [
    "Execute the updated circuit on a quantum simulator that includes measurements:"
   ]
  },
  {
   "cell_type": "code",
   "execution_count": 0,
   "metadata": {
    "colab": {},
    "colab_type": "code",
    "id": "lLnpA1Husnf9"
   },
   "outputs": [],
   "source": [
    "# Use the BasicAer qasm_simulator backend\n",
    "\n",
    "\n",
    "# Execute the circuit on the qasm simulator, running it 1000 times.\n",
    "\n",
    "\n",
    "# Grab the results from the job.\n",
    "\n",
    "\n",
    "# Print the counts, which are contained in a Python dictionary\n"
   ]
  },
  {
   "cell_type": "markdown",
   "metadata": {
    "colab_type": "text",
    "id": "VXcAoAUUsnf_"
   },
   "source": [
    "Plot a histogram of the results:"
   ]
  },
  {
   "cell_type": "code",
   "execution_count": 0,
   "metadata": {
    "colab": {},
    "colab_type": "code",
    "id": "brjPWQgWsngA"
   },
   "outputs": [],
   "source": [
    "# Plot the results on a histogram\n"
   ]
  },
  {
   "cell_type": "markdown",
   "metadata": {
    "colab_type": "text",
    "id": "EEcX-d44sngC"
   },
   "source": [
    "The histogram should contain eight bars, with the measurements for each shot distributed fairly evenly among $\\vert000\\rangle$ through $\\vert111\\rangle$. The quantum state should be in an equal superposition.\n",
    "\n",
    "#### Examining this equal superposition state\n",
    "If the circuit was constructed correctly, the resulting state vector dimensions will all have the same value, namely $\\approx0.354$, which is $\\frac{1}{\\sqrt{8}}$. Therefore, each computational basis state has an equal probability, exactly $\\frac{1}{8}$, of being the result of a measurement. Given that there are eight computational basis states, these probabilities add up to $1$ as they should.\n",
    "\n",
    "This quantum state matches the result of calculating the Kronecker product of the individual qubit states, which are themselves (after encountering a Hadamard) equal superpositions:\n",
    "\n",
    "$$\n",
    " \\begin{bmatrix}\n",
    "  \\frac{1}{\\sqrt{2}} \\\\\n",
    "  \\frac{1}{\\sqrt{2}}\n",
    " \\end{bmatrix}\\otimes\n",
    " \\begin{bmatrix}\n",
    "  \\frac{1}{\\sqrt{2}} \\\\\n",
    "  \\frac{1}{\\sqrt{2}}\n",
    " \\end{bmatrix}\\otimes\n",
    " \\begin{bmatrix}\n",
    "  \\frac{1}{\\sqrt{2}} \\\\\n",
    "  \\frac{1}{\\sqrt{2}}\n",
    " \\end{bmatrix}=\n",
    " \\begin{bmatrix}\n",
    "  \\frac{1}{\\sqrt{8}} \\\\\n",
    "  \\frac{1}{\\sqrt{8}} \\\\\n",
    "  \\frac{1}{\\sqrt{8}} \\\\\n",
    "  \\frac{1}{\\sqrt{8}} \\\\\n",
    "  \\frac{1}{\\sqrt{8}} \\\\\n",
    "  \\frac{1}{\\sqrt{8}} \\\\\n",
    "  \\frac{1}{\\sqrt{8}} \\\\\n",
    "  \\frac{1}{\\sqrt{8}}\n",
    " \\end{bmatrix}\n",
    "$$\n",
    "\n",
    "We could represent this state in Dirac notation in the following way:\n",
    "$$\n",
    " \\frac{1}{\\sqrt{8}}\\vert000\\rangle+\\frac{1}{\\sqrt{8}}\\vert001\\rangle+\\frac{1}{\\sqrt{8}}\\vert010\\rangle+\\frac{1}{\\sqrt{8}}\\vert011\\rangle+\\frac{1}{\\sqrt{8}}\\vert100\\rangle+\\frac{1}{\\sqrt{8}}\\vert101\\rangle+\\frac{1}{\\sqrt{8}}\\vert110\\rangle+\\frac{1}{\\sqrt{8}}\\vert111\\rangle\n",
    "$$\n",
    "\n",
    "We could, more succinctly, leverage the [summation](https://en.wikipedia.org/wiki/Summation \"Summation on Wikipedia\") operator to represent the same state:\n",
    "$$\n",
    " \\frac{1}{\\sqrt{8}}\\sum_{x=0}^{7} \\vert{x}\\rangle\n",
    "$$\n",
    "\n"
   ]
  },
  {
   "cell_type": "markdown",
   "metadata": {
    "colab_type": "text",
    "id": "Y6nHcS0csngD"
   },
   "source": [
    "#### It's your turn to play!\n",
    "Here's a puzzle for you to solve. Starting with the most recent circuit, change one or more Hadamard gates to X gates in a manner that results in the following quantum state vector:\n",
    "\n",
    "$$\n",
    " \\frac{1}{2}\\vert001\\rangle+\n",
    " \\frac{1}{2}\\vert011\\rangle+\n",
    " \\frac{1}{2}\\vert101\\rangle+\n",
    " \\frac{1}{2}\\vert111\\rangle\n",
    "$$\n",
    "\n",
    "To help solve this puzzle or to visualize the solution, experiment with the [Quantum Spheres Playground application](https://javafxpert.github.io/quantum-state-spheres/ \"Quantum Spheres Playground application\"). For this three-qubit circuit, you'd click individually on the three rightmost Bloch spheres, trying combinations of **X** and **H** gates. Clicking the $\\vert0\\rangle$ button will reset a qubit, and refreshing the browser will reset the app.\n",
    "\n",
    "<div align='center'><img src='https://raw.githubusercontent.com/JavaFXpert/qiskit4devs-workshop-notebooks/master/images/quantum-spheres-screen-shot.png' width=600 title='Quantum spheres playground application'></div>\n",
    "<br/>\n",
    "\n",
    "You've covered a lot of ground again in this lesson, particularly in the area of multi-qubit circuits. In this the next lesson we'll explore multi-qubit gates, including the mysterious concept of entanglement."
   ]
  }
 ],
 "metadata": {
  "colab": {
   "collapsed_sections": [],
   "include_colab_link": true,
   "name": "multi-qubit-circuits.ipynb",
   "private_outputs": true,
   "provenance": [],
   "version": "0.3.2"
  },
  "kernelspec": {
   "display_name": "Python 3",
   "language": "python",
   "name": "python3"
  },
  "language_info": {
   "codemirror_mode": {
    "name": "ipython",
    "version": 3
   },
   "file_extension": ".py",
   "mimetype": "text/x-python",
   "name": "python",
   "nbconvert_exporter": "python",
   "pygments_lexer": "ipython3",
   "version": "3.7.3"
  }
 },
 "nbformat": 4,
 "nbformat_minor": 1
}
