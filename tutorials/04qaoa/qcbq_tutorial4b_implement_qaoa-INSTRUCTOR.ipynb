{
 "cells": [
  {
   "cell_type": "markdown",
   "metadata": {},
   "source": [
    "<img src=\"https://github.com/rmlarose/qcbq/blob/master/img/banner.png?raw=true\" alt=\"QCBQ Banner\">"
   ]
  },
  {
   "cell_type": "markdown",
   "metadata": {},
   "source": [
    "# Tutorial 4b: Implementing Variational Quantum Algorithms"
   ]
  },
  {
   "cell_type": "markdown",
   "metadata": {},
   "source": [
    "**Author:** Ryan LaRose"
   ]
  },
  {
   "cell_type": "markdown",
   "metadata": {},
   "source": [
    "This notebook will walk you through how the QAOA works at a lower level than Tutorial 3b. We'll study a class of circuits/algorithms known as variational quantum algorithms, of which the QAOA is one. In particular, we'll see how to implement circuits with variational parameters, estimate expectation values, compute cost functions, and implement classical optimization algorithms. These are all components that Qiskit Aqua neatly takes care of for the QAOA, which is great for applying the algorithm to problem instances. To see how they are implemented, we will implement them ourselves!"
   ]
  },
  {
   "cell_type": "markdown",
   "metadata": {},
   "source": [
    "## Learning goals"
   ]
  },
  {
   "cell_type": "markdown",
   "metadata": {},
   "source": [
    "(1) Be able to implement a circuit with variable parameters and update these parameters.\n",
    "\n",
    "(2) Be able to estimate expectation values using a quantum circuit.\n",
    "\n",
    "(3) Understand how to compute a cost function with a quantum circuit.\n",
    "\n",
    "(4) Use a classical optimization algorithm to find the best parameters."
   ]
  },
  {
   "cell_type": "markdown",
   "metadata": {},
   "source": [
    "## Helpful background"
   ]
  },
  {
   "cell_type": "markdown",
   "metadata": {},
   "source": [
    "* [Born's rule](https://en.wikipedia.org/wiki/Born_rule) for probabilities in quantum mechanics."
   ]
  },
  {
   "cell_type": "code",
   "execution_count": null,
   "metadata": {},
   "outputs": [],
   "source": [
    "\"\"\"Imports for the notebook.\"\"\"\n",
    "import matplotlib.pyplot as plt\n",
    "import numpy as np\n",
    "from scipy.optimize import minimize\n",
    "\n",
    "import qiskit"
   ]
  },
  {
   "cell_type": "markdown",
   "metadata": {},
   "source": [
    "## Circuits with parameters"
   ]
  },
  {
   "cell_type": "markdown",
   "metadata": {},
   "source": [
    "A key characteristic of any variational quantum algorithm is a parameterized circuit. More generally, variational quantum algorithms are instances of the well-known variational principle of quantum mechanics. This principle states that you can never get below the ground state energy of a particular Hamiltonian. The proof of this theorem is \"duh, ground state means lowest energy.\" The formal proof is just a mathematical translation of this fact."
   ]
  },
  {
   "cell_type": "markdown",
   "metadata": {},
   "source": [
    "**Theorem (The Variational Principle):** Let $H = H^\\dagger$ be a Hamiltonian with spectrum (energy) $E_0 \\le E_1 \\le \\cdots \\le E_n$. Then, for any valid wavefunction $|\\psi\\rangle$,\n",
    "\n",
    "$$ E_0 \\le \\langle \\psi | H | \\psi \\rangle .$$"
   ]
  },
  {
   "cell_type": "markdown",
   "metadata": {},
   "source": [
    "*Proof*: Write $|\\psi\\rangle$ in the eigenbasis of $H$\n",
    "\n",
    "$$ |\\psi\\rangle = \\sum_n c_n |\\psi_n\\rangle $$\n",
    "\n",
    "where $c_n := \\langle \\psi | \\psi_n \\rangle$ and $H |\\psi_n \\rangle = E_n |\\psi_n\\rangle$. Note that $\\sum_n |c_n|^2 = 1$ by virtue of proper normalization. Now,\n",
    "\n",
    "\\begin{align}\n",
    "    \\langle \\psi | H | \\psi \\rangle &= \\left[ \\sum_m c_m | \\psi_m \\rangle \\right]^\\dagger H \\left[ \\sum_n c_n |\\psi_n\\rangle \\right] \\\\\n",
    "    &= \\sum_{m, n} E_n c_m^* c_n \\langle \\psi_m | \\psi_n \\rangle \\\\\n",
    "    &= \\sum_n E_n |c_n|^2 \\\\\n",
    "    &\\ge E_0 \\sum_n |c_n|^2 \\\\\n",
    "    &= E_0 .\n",
    "\\end{align}\n",
    "\n",
    "_______________________________________________________________________________"
   ]
  },
  {
   "cell_type": "markdown",
   "metadata": {},
   "source": [
    "The **big idea** in all variational methods is to prepare some \"**ansatz\"** wavefunction\n",
    "\n",
    "$$ |\\psi\\rangle = |\\psi(\\mathbf{\\alpha}) \\rangle $$\n",
    "\n",
    "parameterized by $\\mathbf{\\alpha} = (\\alpha_1, \\alpha_2, ..., \\alpha_n)$. In the context of quantum computing, we prepare states by implementing gates, so our gates should have some tunable parameters in them. This is what we mean by \"circuits with parameters.\""
   ]
  },
  {
   "cell_type": "markdown",
   "metadata": {},
   "source": [
    "### Defining circuits with parameters"
   ]
  },
  {
   "cell_type": "markdown",
   "metadata": {},
   "source": [
    "The code cell below shows an example of defining a two qubit circuit with two parameters. Run this cell to visualize the circuit."
   ]
  },
  {
   "cell_type": "code",
   "execution_count": null,
   "metadata": {
    "scrolled": true
   },
   "outputs": [],
   "source": [
    "\"\"\"Defining circuits with parameters.\"\"\"\n",
    "# Get a circuit and registers\n",
    "qreg = qiskit.QuantumRegister(2)\n",
    "creg = qiskit.ClassicalRegister(2)\n",
    "circ = qiskit.QuantumCircuit(qreg, creg)\n",
    "\n",
    "# Add gates with particular parameters\n",
    "circ.h(qreg)\n",
    "circ.rx(0.2, qreg[0])\n",
    "circ.cx(qreg[0], qreg[1])\n",
    "circ.ry(0.1, qreg[1])\n",
    "\n",
    "# Visualize the circuit\n",
    "print(circ)"
   ]
  },
  {
   "cell_type": "markdown",
   "metadata": {},
   "source": [
    "The angles come in through single qubit rotation gates. For this example, we instantiated these angles with example (arbitrary) values. Generally, it is useful to have some means of quickly generating the same circuit but with different variational parameters. In terms of programming, this can be done in a variety of ways, including symbolic representation of parameters or functions. We'll use the latter case for this notebook."
   ]
  },
  {
   "cell_type": "markdown",
   "metadata": {},
   "source": [
    "<font size=8 color=\"#009600\">&#9998;</font> **Do this:** Write a function which inputs two paramters (floats) and returns the above circuit with rotation angles equal to these parameters."
   ]
  },
  {
   "cell_type": "code",
   "execution_count": null,
   "metadata": {},
   "outputs": [],
   "source": [
    "def circuit(alpha1: float, alpha2: float):\n",
    "    \"\"\"Returns the circuit above with the input parameters.\"\"\"\n",
    "    ### Your code here!\n",
    "    # Get a circuit and registers\n",
    "    qreg = qiskit.QuantumRegister(2)\n",
    "    creg = qiskit.ClassicalRegister(2)\n",
    "    circ = qiskit.QuantumCircuit(qreg, creg)\n",
    "\n",
    "    # Add gates with particular parameters\n",
    "    circ.h(qreg)\n",
    "    circ.rx(alpha1, qreg[0])\n",
    "    circ.cx(qreg[0], qreg[1])\n",
    "    circ.ry(alpha2, qreg[1])\n",
    "    \n",
    "    return (circ, qreg, creg)"
   ]
  },
  {
   "cell_type": "markdown",
   "metadata": {},
   "source": [
    "We can now easily vary the parameters in our circuit! You could of course do this by creating a new cell and calling the function with several different parameters. (You should do this to at least make sure your function works!) \n",
    "\n",
    "The reason we vary parameters is to minimize some energy (which comes from a cost function/Hamiltonian). This involves two things:\n",
    "\n",
    "1. Computing the energy.\n",
    "1. Varying the parameters.\n",
    "\n",
    "We'll break down computing energy into two sub-steps: Individual expectation values, and weighted sums of expectation values. "
   ]
  },
  {
   "cell_type": "markdown",
   "metadata": {},
   "source": [
    "## Computing expectation values"
   ]
  },
  {
   "cell_type": "markdown",
   "metadata": {},
   "source": [
    "So far, we know that variational algorithms tackle the problem\n",
    "\n",
    "$$ \\min_{\\alpha} \\langle \\psi(\\alpha) | H | \\psi(\\alpha) \\rangle $$\n",
    "\n",
    "**How do we compute expectation values like $\\langle \\psi | H | \\psi \\rangle$ on a quantum computer?**"
   ]
  },
  {
   "cell_type": "markdown",
   "metadata": {},
   "source": [
    "### A diagonal operator"
   ]
  },
  {
   "cell_type": "markdown",
   "metadata": {},
   "source": [
    "Suppose first we have a one qubit wavefunction $|\\psi\\rangle$ and we want to compute \n",
    "\n",
    "$$\\langle \\psi | Z | \\psi \\rangle.$$\n",
    "\n",
    "where $Z$ is the usual Pauli suspect\n",
    "\n",
    "$$ Z = \\left[ \\begin{matrix}\n",
    "    1 & 0 \\\\\n",
    "    0 & -1 \\\\\n",
    "\\end{matrix} \\right] $$\n",
    "\n",
    "in the computational basis.\n",
    "\n",
    "Starting from first principles, Born's rule tells us that the probability of measuring $0$ is\n",
    "\n",
    "$$ p(0) = | \\langle \\psi | 0 \\rangle |^2 = \n",
    "\\langle \\psi | 0 \\rangle \\langle 0 | \\psi \\rangle =\n",
    "\\langle \\psi | \\Pi_0 | \\psi \\rangle $$\n",
    "\n",
    "where $\\Pi_0 := |0\\rangle \\langle 0 |$ is the projector onto the $|0\\rangle$ state. "
   ]
  },
  {
   "cell_type": "markdown",
   "metadata": {},
   "source": [
    "**Question:** Write out the $2 \\times 2$ matrix representation of $\\Pi_0$ in the computational basis."
   ]
  },
  {
   "cell_type": "markdown",
   "metadata": {},
   "source": [
    "<font size=8 color=\"#009600\">&#9998;</font> **Answer:** Answer the above question here!"
   ]
  },
  {
   "cell_type": "markdown",
   "metadata": {},
   "source": [
    "Similarly, the probability of measuring $1$ is\n",
    "\n",
    "$$ p(1) = | \\langle \\psi | 1 \\rangle |^2 = \n",
    "\\langle \\psi | 1 \\rangle \\langle 1 | \\psi \\rangle =\n",
    "\\langle \\psi | \\Pi_1 | \\psi \\rangle $$\n",
    "\n",
    "where $\\Pi_1 := |1 \\rangle \\langle 1 |$ is the projector onto the $|1\\rangle$ state. "
   ]
  },
  {
   "cell_type": "markdown",
   "metadata": {},
   "source": [
    "**Question:** Write out the $2 \\times 2$ matrix representation of $\\Pi_1$ in the computational basis."
   ]
  },
  {
   "cell_type": "markdown",
   "metadata": {},
   "source": [
    "<font size=8 color=\"#009600\">&#9998;</font> **Answer:** Answer the above question here!"
   ]
  },
  {
   "cell_type": "markdown",
   "metadata": {},
   "source": [
    "**Question:** Prove that $\\Pi_0 + \\Pi_1 = I$ (the identity). Use this to check that $p(0) + p(1) = 1$, as it must."
   ]
  },
  {
   "cell_type": "markdown",
   "metadata": {},
   "source": [
    "<font size=8 color=\"#009600\">&#9998;</font> **Answer:** Answer the above question here!"
   ]
  },
  {
   "cell_type": "markdown",
   "metadata": {},
   "source": [
    "The previous question showed that if we add together the projectors $\\Pi_0$ and $\\Pi_1$, nothing interesting happens. The follow question shows that if we **subtract** the projectors, something interesting happens!"
   ]
  },
  {
   "cell_type": "markdown",
   "metadata": {},
   "source": [
    "**Question:** Prove that $\\Pi_0 - \\Pi_1 = Z$. "
   ]
  },
  {
   "cell_type": "markdown",
   "metadata": {},
   "source": [
    "<font size=8 color=\"#009600\">&#9998;</font> **Answer:** Answer the above question here!"
   ]
  },
  {
   "cell_type": "markdown",
   "metadata": {},
   "source": [
    "As you showed above, we have\n",
    "\n",
    "$$ Z = \\Pi_0 - \\Pi_1. $$\n",
    "\n",
    "We can use this to estimate $\\langle \\psi | Z | \\psi \\rangle$ by measuring in the standard basis and doing a bit of \"classical postprocessing,\" which here just means subtracting the outcome probabilities.\n",
    "\n",
    "$$ \\langle \\psi | Z | \\psi \\rangle = \\langle \\psi | (\\Pi_0 - \\Pi_1) | \\psi \\rangle =\n",
    "\\langle \\psi | \\Pi_0 | \\psi \\rangle - \\langle \\psi | \\Pi_1 | \\psi \\rangle = \n",
    "p(0) - p(1) . $$\n",
    "\n",
    "Of course, we won't have the full probability distribution $p$, but instead we'll have to sample from the circuit many times ($N$ times) to get a good estimate $p(0) \\approx f(0) / N$, where $f(0)$ is the frequency of measuring $0$. Similarly for $p(1)$."
   ]
  },
  {
   "cell_type": "markdown",
   "metadata": {},
   "source": [
    "<font size=8 color=\"#009600\">&#9998;</font> **Do this:** In the following cell, a one qubit state $|\\psi\\rangle = H|0\\rangle$ is prepared for you in a circuit. \n",
    "\n",
    "1. Estimate $\\langle \\psi | Z | \\psi \\rangle$ by executing the circuit many times and doing the appropriate \"classical post-processing.\"\n",
    "1. Compute the expectation analytically, and show the results agree."
   ]
  },
  {
   "cell_type": "code",
   "execution_count": null,
   "metadata": {},
   "outputs": [],
   "source": [
    "\"\"\"Estimating a one qubit expectation value.\"\"\"\n",
    "qreg = qiskit.QuantumRegister(1)\n",
    "creg = qiskit.ClassicalRegister(1)\n",
    "circ = qiskit.QuantumCircuit(qreg, creg)\n",
    "circ.h(qreg)\n",
    "\n",
    "### Your code here!\n",
    "shots = 100000\n",
    "circ.measure(qreg, creg)\n",
    "print(circ)\n",
    "backend = qiskit.BasicAer.get_backend(\"qasm_simulator\")\n",
    "job = qiskit.execute(circ, backend, shots=shots)\n",
    "counts = job.result().get_counts()\n",
    "expec_value = (counts.get(\"0\") - counts.get(\"1\")) / shots\n",
    "print(\"Expectation value =\", expec_value)"
   ]
  },
  {
   "cell_type": "markdown",
   "metadata": {},
   "source": [
    "### A non-diagonal operator"
   ]
  },
  {
   "cell_type": "markdown",
   "metadata": {},
   "source": [
    "Suppose now, for example, we want to measure the expecation value of $X$, which is not diagonal in the computational basis:\n",
    "\n",
    "$$\\langle \\psi | X | \\psi \\rangle.$$\n",
    "\n",
    "Here, the key \"trick\" is to rotate to the eigenbasis, where $X$ becomes diagonal. You may recall or wish to prove that\n",
    "\n",
    "$$ HXH = Z . $$\n",
    "\n",
    "Let $|\\psi'\\rangle = H |\\psi \\rangle$, and suppose what happens when we measure $|\\psi'\\rangle$ in the computational basis. By the same argument above, we have\n",
    "\n",
    "$$ p(0) = \\langle \\psi ' | \\Pi_0 | \\psi' \\rangle = \n",
    "\\langle \\psi | H \\Pi_0 H | \\psi \\rangle,$$\n",
    "\n",
    "where in the last step we substituted $|\\psi'\\rangle = H |\\psi\\rangle$. Similarly,\n",
    "\n",
    "$$ p(1) = \\langle \\psi ' | \\Pi_1 | \\psi' \\rangle = \n",
    "\\langle \\psi | H \\Pi_1 H | \\psi \\rangle . $$\n",
    "\n",
    "We can now subtract the probabilities, again using the fact that $Z = \\Pi_0 - \\Pi_1$, as above:\n",
    "\n",
    "$$ p(0) - p(1) = \\langle \\psi | H \\Pi_0 H | \\psi \\rangle - \\langle \\psi | H \\Pi_1 H | \\psi \\rangle = \n",
    "\\langle \\psi | H (\\Pi_0 - \\Pi_1 ) H | \\psi \\rangle = \n",
    "\\langle \\psi | H Z H | \\psi \\rangle =\n",
    "\\langle \\psi | X | \\psi \\rangle, $$\n",
    "\n",
    "which is exactly the quantity we want to compute. \n",
    "\n",
    "This is why we implement the \"appropriate rotation\" when we want to measure the expectation value of an operator. The key insight is that measurement probabilities can be written as expectation values of projectors."
   ]
  },
  {
   "cell_type": "markdown",
   "metadata": {},
   "source": [
    "<font size=8 color=\"#009600\">&#9998;</font> **Do this:** In the following cell, a one qubit state $|\\psi\\rangle = |-\\rangle$ is prepared for you in a circuit. \n",
    "\n",
    "1. Estimate $\\langle \\psi | X | \\psi \\rangle$ by executing the circuit many times and doing the appropriate \"classical post-processing.\"\n",
    "1. Compute the expectation analytically, and show the results agree."
   ]
  },
  {
   "cell_type": "code",
   "execution_count": null,
   "metadata": {},
   "outputs": [],
   "source": [
    "\"\"\"Estimating a one qubit expectation value.\"\"\"\n",
    "qreg = qiskit.QuantumRegister(1)\n",
    "creg = qiskit.ClassicalRegister(1)\n",
    "circ = qiskit.QuantumCircuit(qreg, creg)\n",
    "circ.x(qreg)\n",
    "circ.h(qreg)\n",
    "\n",
    "### Your code here!\n",
    "shots = 10000\n",
    "circ.h(qreg)\n",
    "circ.measure(qreg, creg)\n",
    "print(circ)\n",
    "backend = qiskit.BasicAer.get_backend(\"qasm_simulator\")\n",
    "job = qiskit.execute(circ, backend, shots=shots)\n",
    "counts = job.result().get_counts()\n",
    "if \"0\" in counts.keys():\n",
    "    zero = counts.get(\"0\")\n",
    "else:\n",
    "    zero = 0\n",
    "expec_value = (zero - counts.get(\"1\")) / shots\n",
    "print(\"Expectation value =\", expec_value)"
   ]
  },
  {
   "cell_type": "markdown",
   "metadata": {},
   "source": [
    "### A two-qubit operator"
   ]
  },
  {
   "cell_type": "markdown",
   "metadata": {},
   "source": [
    "We now know how to estimate $\\langle Z \\rangle$ and $\\langle X \\rangle$. **What if we want to estimate $\\langle Z \\otimes X \\rangle$?**\n",
    "\n",
    "The trick is to do the same thing! We still rotate to the eigenbasis of each operator and measure both qubits. We now have four possible measurement outcomes and so four probabilities: $p(00)$, $p(01)$, $p(10)$, and $p(11)$. What is the appropriate \"classical post-processing\" to do with these sampled outcomes?\n",
    "\n",
    "We can measuring the expectations separately and expand the product:\n",
    "\n",
    "$$ (p_0(0) - p_0(1))(p_1(0) - p_1(1)) = p(00) - p(01) - p(10) + p(11). $$\n",
    "\n",
    "Note that the subscript on the LHS refers to the qubit (either $0$ or $1$), and the value in parentheses refers to the measurement outcome. On the RHS, $p(00)$ is equivalent to $p_0(0) p_1(0)$, etc. "
   ]
  },
  {
   "cell_type": "markdown",
   "metadata": {},
   "source": [
    "<font size=8 color=\"#009600\">&#9998;</font> **Do this:** In the following cell, a two qubit state $|\\psi\\rangle = |0\\rangle|+\\rangle$ is prepared for you in a circuit. \n",
    "\n",
    "1. Estimate $\\langle \\psi | Z \\otimes X | \\psi \\rangle$ by executing the circuit many times and doing the appropriate \"classical post-processing.\"\n",
    "1. Compute the expectation analytically, and show the results agree."
   ]
  },
  {
   "cell_type": "code",
   "execution_count": null,
   "metadata": {},
   "outputs": [],
   "source": [
    "\"\"\"Estimating a two qubit expectation value.\"\"\"\n",
    "qreg = qiskit.QuantumRegister(2)\n",
    "creg = qiskit.ClassicalRegister(2)\n",
    "circ = qiskit.QuantumCircuit(qreg, creg)\n",
    "circ.h(qreg[1])\n",
    "\n",
    "### Your code here!\n",
    "shots = 10000\n",
    "circ.h(qreg[1])\n",
    "circ.measure(qreg, creg)\n",
    "print(circ)\n",
    "backend = qiskit.BasicAer.get_backend(\"qasm_simulator\")\n",
    "job = qiskit.execute(circ, backend, shots=shots)\n",
    "counts = job.result().get_counts()\n",
    "# Note: Only 00 will be in the counts, so the line below will throw an error.\n",
    "# expec_value = (counts.get(\"00\") - counts.get(\"01\") - counts.get(\"10\") + counts.get(\"11\")) / shots\n",
    "expec_value = counts.get(\"00\") / shots\n",
    "print(\"Expectation value =\", expec_value)"
   ]
  },
  {
   "cell_type": "markdown",
   "metadata": {},
   "source": [
    "### A general operator"
   ]
  },
  {
   "cell_type": "markdown",
   "metadata": {},
   "source": [
    "Thankfully for our discussion, any $n$-qubit operator $O$ can be decomposed in the Pauli basis:\n",
    "\n",
    "$$ O = \\sum_i o_i \\sigma_{i_1} \\otimes \\sigma_{i_2} \\otimes \\cdots \\otimes \\sigma_{i_n} $$\n",
    "\n",
    "Here, $o_i \\in \\mathbb{C}$ is a scalar and each $\\sigma$ is a Pauli. By linearity, to evaluate the expectation, we can evaluate the expectation of each Pauli string:\n",
    "\n",
    "$$ \\langle O \\rangle = \\sum_i o_i \\langle \\sigma_{i_1} \\otimes \\sigma_{i_2} \\otimes \\cdots \\otimes \\sigma_{i_n} \\rangle $$\n",
    "\n",
    "Thus, **to evaluate the expectation of any operator, it suffices to evaluate expectations of arbitrary Pauli strings**. Below, you are asked to write a function which generalizes the two qubit expectation value measurement $\\langle Z \\otimes X \\rangle$ to any number of qubits. Before tackling this, you may wish to prove the following fact to yourself, based on the expansion of the two-qubit expectation above."
   ]
  },
  {
   "cell_type": "markdown",
   "metadata": {},
   "source": [
    "**Question**: We can think of the classical post-processing for computing expectation values as follows. From our circuit of $n$ qubits, we measure the frequency of $2^n$ possible bitstrings. For example, for $n = 3$, the possible bitstrings we can measure are 000, 001, 010, 011, 100, 101, 110, and 111. The classical post-processing consists of summing up these frequencies **with the appropriate sign**. Prove that the sign for bitstring $z_i$ is $(-1)^{N_1(z_i)}$ where $N_1(z_i)$ is the number of ones in bit string $z_i$. "
   ]
  },
  {
   "cell_type": "markdown",
   "metadata": {},
   "source": [
    "<font size=8 color=\"#009600\">&#9998;</font> **Answer:** Answer the above question here!"
   ]
  },
  {
   "cell_type": "markdown",
   "metadata": {},
   "source": [
    "**Question:** Write a function which inputs a quantum circuit and a string of Paulis, e.g. $IXXYZ$, and outputs the circuit to execute in order to measure the expectation of this string. Assume the circuit has one quantum register and one classical register associated to it."
   ]
  },
  {
   "cell_type": "markdown",
   "metadata": {},
   "source": [
    "<font size=8 color=\"#009600\">&#9998;</font> **Do this:** In the following cell, write code to answer the above question."
   ]
  },
  {
   "cell_type": "code",
   "execution_count": null,
   "metadata": {},
   "outputs": [],
   "source": [
    "\"\"\"Helper function to evaluate the expectation of any valid Pauli string.\"\"\"\n",
    "def expectation_circuit(circuit: qiskit.QuantumCircuit, pauli_string: str) -> qiskit.QuantumCircuit:\n",
    "    \"\"\"Returns a circuit to compute expectation of the Pauli string in the \n",
    "    state prepared by the input circuit.\n",
    "    \n",
    "    Args:\n",
    "        circuit: Prepares the state |\\psi> from |0>.\n",
    "        pauli_string: String (tensor product) of Paulis to evaluate\n",
    "                      an expectation of. The length of pauli_string\n",
    "                      must be equal to the total number of qubits in\n",
    "                      the circuit. (Use identities for no operator!)\n",
    "    \"\"\"\n",
    "    if len(circuit.qregs) != 1:\n",
    "        raise ValueError(\"Circuit should have only one quantum register.\")\n",
    "    if len(circuit.cregs) != 1:\n",
    "        print(\"# cregs =\", len(circuit.cregs))\n",
    "        raise ValueError(\"Circuit should have only one classical register.\")\n",
    "    ### Your code here!\n",
    "    qreg = circuit.qregs[0]\n",
    "    creg = circuit.cregs[0]\n",
    "    nqubits = len(qreg)\n",
    "    pauli_string = pauli_string.upper().strip()\n",
    "    \n",
    "    if len(pauli_string) != nqubits:\n",
    "        raise ValueError(\n",
    "            f\"Circuit has {nqubits} qubits but pauli_string has {len(pauli_string)} operators.\"\n",
    "        )\n",
    "    \n",
    "    for (qubit, pauli) in enumerate(pauli_string):\n",
    "        if pauli == \"I\":\n",
    "            continue\n",
    "        elif pauli == \"X\":\n",
    "            circuit.h(qreg[qubit])\n",
    "            circuit.measure(qreg[qubit], creg[qubit])\n",
    "        elif pauli == \"Y\":\n",
    "            circuit.s(qreg[qubit])\n",
    "            circuit.h(qreg[qubit])\n",
    "            circuit.measure(qreg[qubit], creg[qubit])\n",
    "        elif pauli == \"Z\":\n",
    "            circuit.measure(qreg[qubit], creg[qubit])\n",
    "        else:\n",
    "            raise ValueError(f\"{pauli} is an invalid Pauli string key. Should be I, X, Y, or Z.\")\n",
    "    \n",
    "    return circuit"
   ]
  },
  {
   "cell_type": "markdown",
   "metadata": {},
   "source": [
    "Test your function below on measuring $X \\otimes Y$. Use your function to modify the input circuit, then print out the modified circuit. Test this on other Pauli strings as well."
   ]
  },
  {
   "cell_type": "code",
   "execution_count": null,
   "metadata": {
    "scrolled": true
   },
   "outputs": [],
   "source": [
    "\"\"\"Test your function here.\"\"\"\n",
    "circ, qreg, creg = circuit(np.pi / 2, np.pi / 4)\n",
    "print(\"Bare circuit:\")\n",
    "print(circ)\n",
    "### Your code here!\n",
    "print(\"\\n'Expectation circuit:'\")\n",
    "print(expectation_circuit(circ, \"XY\"))"
   ]
  },
  {
   "cell_type": "markdown",
   "metadata": {},
   "source": [
    "If this function is working as expected, you can now move on to the function for the next step: executing the circuit and doing the post-processing."
   ]
  },
  {
   "cell_type": "markdown",
   "metadata": {},
   "source": [
    "<font size=8 color=\"#009600\">&#9998;</font> **Do this:** In the following cell, write a function which executes an \"expectation circuit\" and performs the classical post-processing to return an expectation value."
   ]
  },
  {
   "cell_type": "code",
   "execution_count": null,
   "metadata": {},
   "outputs": [],
   "source": [
    "\"\"\"Function to execute the circuit and do the postprocessing.\"\"\"\n",
    "def run_and_process(circuit: qiskit.QuantumCircuit, shots: int = 10000) -> float:\n",
    "    \"\"\"Runs an 'expectation circuit' and returns the expectation value of the\n",
    "    measured Pauli string.\n",
    "    \n",
    "    Args:\n",
    "        circuit: Circuit to execute.\n",
    "        shots: Number of circuit executions.\n",
    "    \"\"\"\n",
    "    ### Your code here!\n",
    "    \n",
    "    # Execute the circuit\n",
    "    backend = qiskit.BasicAer.get_backend(\"qasm_simulator\")\n",
    "    job = qiskit.execute(circuit, backend, shots=shots)\n",
    "    counts = job.result().get_counts()\n",
    "    \n",
    "    # Do the postprocessing\n",
    "    val = 0.0\n",
    "    for bitstring, count in counts.items():\n",
    "        sign = (-1) ** bitstring.count(\"0\")\n",
    "        val += sign * count\n",
    "    \n",
    "    return val / shots"
   ]
  },
  {
   "cell_type": "markdown",
   "metadata": {},
   "source": [
    "<font size=8 color=\"#009600\">&#9998;</font> **Do this:** In the following cell, combine the previous two functions into one function which computes the expectation value of a Pauli string."
   ]
  },
  {
   "cell_type": "code",
   "execution_count": null,
   "metadata": {},
   "outputs": [],
   "source": [
    "\"\"\"Define your function here!\"\"\"\n",
    "def expectation(circuit: qiskit.QuantumCircuit, pauli_string: str, shots: int = 10000) -> float:\n",
    "    \"\"\"Returns the expectation value of the pauli string in the state prepared by the circuit.\"\"\"\n",
    "    ### Your code here!\n",
    "    to_run = expectation_circuit(circuit, pauli_string)\n",
    "    return run_and_process(to_run, shots)"
   ]
  },
  {
   "cell_type": "markdown",
   "metadata": {},
   "source": [
    "Now test your function on a variety of circuits below, and make sure it gives sensible (correct) results!"
   ]
  },
  {
   "cell_type": "code",
   "execution_count": null,
   "metadata": {
    "scrolled": false
   },
   "outputs": [],
   "source": [
    "\"\"\"Test your function here.\"\"\"\n",
    "### Your code here!\n",
    "circ, qreg, creg = circuit(0, 0)\n",
    "print(circ)\n",
    "expectation(circ, \"IX\")"
   ]
  },
  {
   "cell_type": "markdown",
   "metadata": {},
   "source": [
    "## Computing the cost function"
   ]
  },
  {
   "cell_type": "markdown",
   "metadata": {},
   "source": [
    "Now that we can evaluate expectation values of arbitrary Pauli strings, we're in great shape. Recall that any operator can be written as a sum of weighted Pauli strings, and expectation is a linear operator."
   ]
  },
  {
   "cell_type": "markdown",
   "metadata": {},
   "source": [
    "<font size=8 color=\"#009600\">&#9998;</font> **Do this:** In the following cell, use your function defined above to compute the expectation value of the operator\n",
    "\n",
    "$$ H = 0.5 IZZ + -0.3 ZZI + 1.2 ZIZ $$ \n",
    "\n",
    "in the state given by the provided circuit."
   ]
  },
  {
   "cell_type": "code",
   "execution_count": null,
   "metadata": {},
   "outputs": [],
   "source": [
    "\"\"\"Compute the expectation of a Hamiltonian.\"\"\"\n",
    "# Provided circuit\n",
    "qreg = qiskit.QuantumRegister(3)\n",
    "creg = qiskit.ClassicalRegister(3)\n",
    "circ = qiskit.QuantumCircuit(qreg, creg)\n",
    "circ.h(qreg)\n",
    "circ.rx(np.pi / 4, qreg[0])\n",
    "circ.cz(qreg[0], qreg[1])\n",
    "circ.cz(qreg[1], qreg[2])\n",
    "print(circ)\n",
    "\n",
    "weights = (0.5, -0.3, 1.2)\n",
    "paulis = (\"IZZ\", \"ZZI\", \"ZIZ\")\n",
    "\n",
    "### Your code here\n",
    "val = 0.0\n",
    "for w, p in zip(weights, paulis):\n",
    "    val += w * expectation(circ, p)\n",
    "print(\"<H> =\", val)"
   ]
  },
  {
   "cell_type": "markdown",
   "metadata": {},
   "source": [
    "For this tutorial, we consider cost functions of a general form. The particular form always comes from the problem of interest. For example, if you did Tutorial 4a, you would have seen the MaxCut Hamiltonian \n",
    "\n",
    "\\begin{equation}\n",
    "    H_C = \\frac{1}{2} \\sum_{(i, j) \\in E} w_{ij} (1 - z_i z_j) .\n",
    "\\end{equation}\n",
    "\n",
    "Other Hamiltonians can come from molecules, other combinatorial optimization problems, etc. For this notebook, we'll be satisfied to know how to compute expectation values *given a Hamiltonian*. Converting a Hamiltonian into a suitable form and deriving such a Hamiltonian will not be covered."
   ]
  },
  {
   "cell_type": "markdown",
   "metadata": {},
   "source": [
    "<font size=8 color=\"#009600\">&#9998;</font> **Do this:** In the following cell, write a function which takes in a list of Pauli operators with coefficients (**weighted Pauli operators**) and returns the expectation value taken in an input circuit."
   ]
  },
  {
   "cell_type": "code",
   "execution_count": null,
   "metadata": {},
   "outputs": [],
   "source": [
    "\"\"\"Function to compute the cost of any Hamiltonian in the state prepared by the circuit.\"\"\"\n",
    "def cost(circuit, weights, paulis):\n",
    "    \"\"\"Returns <psi|H|psi> where |psi> is prepared by the circuit\n",
    "    and the weights and paulis define a Hamiltonian H.\n",
    "    \n",
    "    Args:\n",
    "        circuit: Circuit which prepares a state.\n",
    "        weights: List of floats which are the coeffs/weights of each Pauli string.\n",
    "        paulis:  List of strings which specify the Paulis.\n",
    "    \"\"\"\n",
    "    if len(weights) != len(paulis):\n",
    "        raise ValueError(\"Args weights and paulis must have the same length.\")\n",
    "    ### Your code here!\n",
    "    val = 0.0\n",
    "    for coeff, pauli in zip(weights, paulis):\n",
    "        val += coeff * expectation(circuit, pauli, shots=10000)\n",
    "    return val"
   ]
  },
  {
   "cell_type": "markdown",
   "metadata": {},
   "source": [
    "<font size=8 color=\"#009600\">&#9998;</font> **Do this:** In the following cell, use your function  to compute the expectation value (cost) of the Hamiltonian given above in the circuit given above. Make sure your reults agree with your answer above. Also test your function on other cases."
   ]
  },
  {
   "cell_type": "code",
   "execution_count": null,
   "metadata": {},
   "outputs": [],
   "source": [
    "\"\"\"Evaluate your cost here!\"\"\"\n",
    "### Your code here!\n",
    "print(\"Cost =\", cost(circ, weights, paulis))"
   ]
  },
  {
   "cell_type": "markdown",
   "metadata": {},
   "source": [
    "<font size=8 color=\"#009600\">&#9998;</font> **Do this:** In the following cell, use the given one-qubit parameterized state $|\\psi(\\alpha)\\rangle$ and Hamiltonian $H = Z$ to compute the cost as a function of the parameter $\\alpha$ in the circuit. Plot the resulting landscape."
   ]
  },
  {
   "cell_type": "code",
   "execution_count": null,
   "metadata": {},
   "outputs": [],
   "source": [
    "\"\"\"Plot a cost landscape.\"\"\"\n",
    "def oneq_circ(param):\n",
    "    qreg = qiskit.QuantumRegister(1)\n",
    "    creg = qiskit.ClassicalRegister(1)\n",
    "    circ = qiskit.QuantumCircuit(qreg, creg)\n",
    "    circ.rx(param, qreg)\n",
    "    return circ\n",
    "\n",
    "weights = (1.0,)\n",
    "paulis = (\"Z\",)\n",
    "\n",
    "pvals = np.linspace(-np.pi, np.pi, 100)\n",
    "cvals = []\n",
    "\n",
    "### Your code here!\n",
    "for pval in pvals:\n",
    "    cvals.append(cost(oneq_circ(pval), weights, paulis))\n",
    "\n",
    "plt.figure(figsize=(17, 6))\n",
    "plt.plot(pvals, cvals, \"--o\", linewidth=3)\n",
    "plt.grid()\n",
    "plt.ylabel(\"<H>\")\n",
    "plt.xlabel(r\"$\\alpha$\")\n",
    "plt.show()"
   ]
  },
  {
   "cell_type": "markdown",
   "metadata": {},
   "source": [
    "## Minimizing the cost function"
   ]
  },
  {
   "cell_type": "markdown",
   "metadata": {},
   "source": [
    "We can now compute expectation values of Hamiltonians, which we want to minimize. Such a quantity to be minimized is known as a **cost** or **objective** function. There are very many methods to adjust parameters in hopes of finding a minimum cost. A few of these are grid search, Markov-Chain Monte Carlo, greedy algorithms, gradient descent, simulated annealing, etc. The list goes on and on. The best optimization algorithms to use for variational quantum circuits is currently an area of great interest. \n",
    "\n",
    "Below, we'll show how to use optimization algorithms in `scipy.optimize` to minimize quantum circuit cost functions. First, you are given a function which prepares a two-qubit state parameterized by two angles."
   ]
  },
  {
   "cell_type": "code",
   "execution_count": null,
   "metadata": {},
   "outputs": [],
   "source": [
    "\"\"\"Get a parameterized circuit.\"\"\"\n",
    "def circuit(params):\n",
    "    qreg = qiskit.QuantumRegister(2)\n",
    "    creg = qiskit.ClassicalRegister(2)\n",
    "    circ = qiskit.QuantumCircuit(qreg, creg)\n",
    "    circ.h(qreg)\n",
    "    circ.cx(qreg[0], qreg[1])\n",
    "    circ.rx(params[0], qreg[0])\n",
    "    circ.ry(params[1], qreg[1])\n",
    "    circ.cz(qreg[0], qreg[1])\n",
    "    circ.s(qreg[0])\n",
    "    circ.t(qreg[1])\n",
    "    return circ"
   ]
  },
  {
   "cell_type": "markdown",
   "metadata": {},
   "source": [
    "You can visualize the circuit by running the cell below."
   ]
  },
  {
   "cell_type": "code",
   "execution_count": null,
   "metadata": {
    "scrolled": true
   },
   "outputs": [],
   "source": [
    "\"\"\"Visualize the circuit.\"\"\"\n",
    "print(circuit([1, 2]))"
   ]
  },
  {
   "cell_type": "markdown",
   "metadata": {},
   "source": [
    "Next, you are given a Hamiltonian."
   ]
  },
  {
   "cell_type": "code",
   "execution_count": null,
   "metadata": {},
   "outputs": [],
   "source": [
    "\"\"\"Hamiltonian cost to minimize.\"\"\"\n",
    "weights = (1.2, -0.2)\n",
    "paulis = (\"IZ\", \"ZX\")"
   ]
  },
  {
   "cell_type": "markdown",
   "metadata": {},
   "source": [
    "<font size=8 color=\"#009600\">&#9998;</font> **Do this:** In the following cell, write a function called `obj` which inputs **one argument**, a list of two floats which specify the values for the parameters, and returns the cost."
   ]
  },
  {
   "cell_type": "code",
   "execution_count": null,
   "metadata": {},
   "outputs": [],
   "source": [
    "\"\"\"Define a cost/objective function.\"\"\"\n",
    "def obj(params):\n",
    "    \"\"\"Returns the cost for the given parameters.\"\"\"\n",
    "    ### Your code here\n",
    "    circ = circuit(params)\n",
    "    val = cost(circ, weights, paulis)\n",
    "    print(\"Current cost:\", val, end=\"\\r\")\n",
    "    return val"
   ]
  },
  {
   "cell_type": "markdown",
   "metadata": {},
   "source": [
    "Now, run the cell below to test your function."
   ]
  },
  {
   "cell_type": "code",
   "execution_count": null,
   "metadata": {},
   "outputs": [],
   "source": [
    "\"\"\"Test your function on this set of parameters.\"\"\"\n",
    "obj([0, 0])"
   ]
  },
  {
   "cell_type": "markdown",
   "metadata": {},
   "source": [
    "The cell below shows a minimum example of how to use a built-in optimization method from `scipy.optimize` to minimize the cost. Execute this cell to see what the minimum cost and best parameters are."
   ]
  },
  {
   "cell_type": "code",
   "execution_count": null,
   "metadata": {},
   "outputs": [],
   "source": [
    "\"\"\"Run an optimization algorithm to return the lowest cost and best parameters.\"\"\"\n",
    "result = minimize(obj, x0=[0, 0], method=\"COBYLA\")"
   ]
  },
  {
   "cell_type": "code",
   "execution_count": null,
   "metadata": {
    "scrolled": false
   },
   "outputs": [],
   "source": [
    "\"\"\"See the optimization results.\"\"\"\n",
    "print(\"Lowest cost function value found:\", result.fun)\n",
    "print(\"Best parameters:\", result.x)"
   ]
  },
  {
   "cell_type": "markdown",
   "metadata": {},
   "source": [
    "You can try [other optimization methods in `scipy.optimize`](https://docs.scipy.org/doc/scipy/reference/generated/scipy.optimize.minimize.html), or you could write your own! And now that you know all the pieces of variational quantum algorithms, you can code your own up from scratch."
   ]
  },
  {
   "cell_type": "markdown",
   "metadata": {},
   "source": [
    "#### Congrats! You just implemented circuits with variational parameters, computed expectation values of Hamiltonians, and minimized objective functions. These are the ingredients necessary for any variational algorithm, including the QAOA."
   ]
  },
  {
   "cell_type": "markdown",
   "metadata": {},
   "source": [
    "# Further Reading and Resources"
   ]
  },
  {
   "cell_type": "markdown",
   "metadata": {},
   "source": [
    "* [Theory of variational quantum algorithms](https://arxiv.org/abs/1509.04279)\n",
    "* [Barren plateuas](https://arxiv.org/abs/1803.11173)\n",
    "* [Stochastic gradient descent for variational circuits](https://arxiv.org/abs/1910.01155)"
   ]
  }
 ],
 "metadata": {
  "kernelspec": {
   "display_name": "env_qcbq_test",
   "language": "python",
   "name": "env_qcbq_test"
  },
  "language_info": {
   "codemirror_mode": {
    "name": "ipython",
    "version": 3
   },
   "file_extension": ".py",
   "mimetype": "text/x-python",
   "name": "python",
   "nbconvert_exporter": "python",
   "pygments_lexer": "ipython3",
   "version": "3.6.8"
  }
 },
 "nbformat": 4,
 "nbformat_minor": 2
}
